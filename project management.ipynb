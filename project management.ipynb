import pandas as pd
import numpy as np
import matplotlib.pyplot as plt
import seaborn as sns
from google.colab import files
uploaded= files.upload()
df=pd.read_csv('/content/Project Management Dataset.csv')
print(df.head())
print(df.tail())
print(df.dtypes)
print(df.isnull().sum())
print(df.describe())
sns.histplot(data=df,x=' Project Cost ',kde=True)
plt.title('distribution of project cost')
plt.show()
sns.countplot(data=df,x='Project Type')
plt.xticks(rotation=45)
plt.title('Project count by type')
plt.show()
sns.barplot(data=df,x='Department',y=' Project Cost ',estimator=np.mean)
plt.xticks(rotation=45)
plt.title('average cost by department')
plt.show()
plt.pie(df['Status'].value_counts(),labels=df['Status'].value_counts().index,autopct='%1.1f%%')
plt.title('Project status distribution')
plt.show()
sns.boxplot(data=df,x='Complexity',y='Completion%',showfliers=False)
plt.title('Project completion % by complexity')
plt.show()
df[' Project Cost '] = df[' Project Cost '].str.replace(',', '').astype(float)
df['Year-Month']=df['Year'].astype(str)+'-'+ df['Month'].astype(str)
df.groupby('Year-Month')[' Project Cost '].sum().plot()
plt.title('Monthly project costs over time')
plt.xticks(rotation=45)
plt.show()
sns.scatterplot(data=df,x=' Project Cost ',y=' Project Benefit ')
plt.title('project cost vs benefit')
plt.show()
import plotly.express as px

fig = px.scatter_3d(df, x=' Project Cost ', y=' Project Benefit ', z='Complexity',
                  color='Project Type')
fig.update_layout(scene = dict(
                    xaxis = dict(title  = 'Project Cost'),
                    yaxis = dict(title  = 'Project Benefit'),
                    zaxis = dict(title  = 'Complexity')))
fig.show()
